{
 "cells": [
  {
   "cell_type": "markdown",
   "metadata": {},
   "source": [
    "# Load/Pre-process Cleaned Dataset\n",
    "\n",
    "Now that we have our cleaned dataset, we can load that and start building the model using PyTorch. Here we get rid of some unnecessary fields and then we also need to map the positions into integer numbers so that the neural network can deal with just the numbers.\n",
    "\n",
    "Reasoning on discarding unnecessary fields:\n",
    "* 'PPG' (Fantasy points per game) is derived from other fields and can be discarded.\n",
    "\n",
    "* The Player's Name and Team will be kept for display, but when training the model we will discard this because we don't want the model trying to guess based on the name of the player. There are repeat names in this dataset. For example, this dataset will include RB Derek Henry in all 4 of his years. We don't want the model picking up on names like this and trying to use that to guess the players position."
   ]
  },
  {
   "cell_type": "code",
   "execution_count": 10,
   "metadata": {},
   "outputs": [],
   "source": [
    "import pandas as pd\n",
    "import torch\n",
    "from torch.utils.data import Dataset, DataLoader\n",
    "\n",
    "df = pd.read_csv('cleaned_data/combined.csv')\n",
    "\n",
    "df = df.drop(['Player', 'Team', 'PPG'], axis=1)\n",
    "\n",
    "# convert position = 'rb' to 0, position = 'wr' to 1\n",
    "df['position'] = df['position'].map({'rb': 0, 'wr': 1})\n",
    "\n",
    "# convert position into dtype float64\n",
    "df['position'] = df['position'].astype('int64')\n"
   ]
  },
  {
   "cell_type": "markdown",
   "metadata": {},
   "source": [
    "# Build the model class"
   ]
  },
  {
   "cell_type": "code",
   "execution_count": 11,
   "metadata": {},
   "outputs": [],
   "source": [
    "import torch.nn as nn\n",
    "import torch.nn.functional as F # allows data to move us forward in our function\n",
    "\n",
    "# Create a Class that inherits nn.Module\n",
    "class Model(nn.Module):\n",
    "  # Input layer (13 features of the player) --> \n",
    "  # hidden layer1 with n neurons --> \n",
    "  # H2 (n) --> \n",
    "  # output layer (1 of 2 types of flower)\n",
    "  def __init__(self, in_features=13, h1=24, h2=24, out_features=2):\n",
    "    super().__init__() # instantiates the nn.Module\n",
    "    self.fc1 = nn.Linear(in_features, h1)\n",
    "    self.fc2 = nn.Linear(h1, h2)\n",
    "    self.out = nn.Linear(h2, out_features)\n",
    "  \n",
    "  def forward(self, x):\n",
    "    x = F.relu(self.fc1(x)) # rectified linear unit is going to make the output zero if it's <=, otherwise take the output\n",
    "    x = F.relu(self.fc2(x))\n",
    "    x = self.out(x)\n",
    "    return x\n",
    "\n",
    "\n",
    "# Pick a manual seed for randomization\n",
    "torch.manual_seed(5)\n",
    "\n",
    "# create an instance of the model\n",
    "model = Model()"
   ]
  },
  {
   "cell_type": "markdown",
   "metadata": {},
   "source": [
    "# Split dataset and set up optimizer"
   ]
  },
  {
   "cell_type": "code",
   "execution_count": 12,
   "metadata": {},
   "outputs": [],
   "source": [
    "from sklearn.model_selection import train_test_split\n",
    "\n",
    "# Train test and split\n",
    "# set your x and y and convert to numpy arrays to make it easier\n",
    "X = df.drop('position', axis=1).values # converts to numpy arrays\n",
    "y = df['position'].values # converts to numpy arrays\n",
    "\n",
    "X_train, X_test, y_train, y_test = train_test_split(X, y, test_size=0.2, random_state=5)\n",
    "\n",
    "X_train = torch.FloatTensor(X_train)\n",
    "X_test = torch.FloatTensor(X_test)\n",
    "y_train = torch.LongTensor(y_train) # because our classes here are whole numbers on the positions\n",
    "y_test = torch.LongTensor(y_test)\n",
    "\n",
    "\n",
    "# set the criterion of the model to measure the error\n",
    "criterion = nn.CrossEntropyLoss() # takes the difference between the probabilities in a way\n",
    "# -1 * sum((p(x)logp(x)))\n",
    "\n",
    "# set the optimizer\n",
    "# passing in the model that's the instance of our model class\n",
    "# learning rate will be how granular your step is, the higher it is the less time it will \n",
    "# take to train the model\n",
    "optimizer = torch.optim.Adam(model.parameters(), lr=0.01)\n"
   ]
  },
  {
   "cell_type": "markdown",
   "metadata": {},
   "source": [
    "# Training Loop"
   ]
  },
  {
   "cell_type": "code",
   "execution_count": 13,
   "metadata": {},
   "outputs": [
    {
     "name": "stdout",
     "output_type": "stream",
     "text": [
      "Epoch 0 has loss 3.283392906188965\n",
      "Epoch 10 has loss 0.18001659214496613\n",
      "Epoch 20 has loss 0.1296917200088501\n",
      "Epoch 30 has loss 0.08199802041053772\n",
      "Epoch 40 has loss 0.06123443692922592\n",
      "Epoch 50 has loss 0.04777242988348007\n",
      "Epoch 60 has loss 0.03828435018658638\n",
      "Epoch 70 has loss 0.03389906883239746\n",
      "Epoch 80 has loss 0.02793513424694538\n",
      "Epoch 90 has loss 0.020980585366487503\n"
     ]
    },
    {
     "data": {
      "text/plain": [
       "Text(0.5, 0, 'Epochs')"
      ]
     },
     "execution_count": 13,
     "metadata": {},
     "output_type": "execute_result"
    },
    {
     "data": {
      "image/png": "[encoded data removed]",
      "text/plain": [
       "<Figure size 640x480 with 1 Axes>"
      ]
     },
     "metadata": {},
     "output_type": "display_data"
    }
   ],
   "source": [
    "import matplotlib.pyplot as plt\n",
    "%matplotlib inline\n",
    "\n",
    "# Train our model\n",
    "# Epochs (one run through all the training data in our network)\n",
    "epochs = 100\n",
    "losses = []\n",
    "\n",
    "for i in range(epochs):\n",
    "  # forward and predict\n",
    "  y_pred = model.forward(X_train)\n",
    "\n",
    "  # loss\n",
    "  loss = criterion(y_pred, y_train)\n",
    "  \n",
    "  # keep track of losses\n",
    "  losses.append(loss.item()) # this is a tensor so can use item to get the number\n",
    "\n",
    "  # print every 10 epochs\n",
    "  if i % 10 == 0:\n",
    "    print(f\"Epoch {i} has loss {loss}\")\n",
    "\n",
    "  # back propagation: adjust the model based on the error to fine tune the model\n",
    "  optimizer.zero_grad() # resets the optimizer to allow it to learn from just the current batch\n",
    "  loss.backward()\n",
    "  optimizer.step() # will adjust the model accordingly because it was initialized with our model class\n",
    "\n",
    "\n",
    "# Plot the loss\n",
    "plt.plot(range(epochs), losses)\n",
    "plt.ylabel('Loss')\n",
    "plt.xlabel('Epochs')"
   ]
  },
  {
   "cell_type": "markdown",
   "metadata": {},
   "source": [
    "# Testing the Model"
   ]
  },
  {
   "cell_type": "code",
   "execution_count": null,
   "metadata": {},
   "outputs": [],
   "source": []
  }
 ],
 "metadata": {
  "kernelspec": {
   "display_name": "Python 3",
   "language": "python",
   "name": "python3"
  },
  "language_info": {
   "codemirror_mode": {
    "name": "ipython",
    "version": 3
   },
   "file_extension": ".py",
   "mimetype": "text/x-python",
   "name": "python",
   "nbconvert_exporter": "python",
   "pygments_lexer": "ipython3",
   "version": "3.9.12"
  }
 },
 "nbformat": 4,
 "nbformat_minor": 2
}
