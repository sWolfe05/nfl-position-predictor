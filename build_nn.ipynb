{
 "cells": [
  {
   "cell_type": "markdown",
   "metadata": {},
   "source": [
    "# Load/Pre-process Cleaned Dataset\n",
    "\n",
    "Now that we have our cleaned dataset, we can load that and start building the model using PyTorch. Here we get rid of some unnecessary fields and then we also need to map the positions into integer numbers so that the neural network can deal with just the numbers.\n",
    "\n",
    "Reasoning on discarding unnecessary fields:\n",
    "* 'PPG' (Fantasy points per game) is derived from other fields and can be discarded.\n",
    "\n",
    "* The Player's Name and Team will be kept for display, but when training the model we will discard this because we don't want the model trying to guess based on the name of the player. There are repeat names in this dataset. For example, this dataset will include RB Derek Henry in all 4 of his years. We don't want the model picking up on names like this and trying to use that to guess the players position."
   ]
  },
  {
   "cell_type": "code",
   "execution_count": 8,
   "metadata": {},
   "outputs": [
    {
     "data": {
      "text/plain": [
       "torch.Size([1016, 14])"
      ]
     },
     "execution_count": 8,
     "metadata": {},
     "output_type": "execute_result"
    }
   ],
   "source": [
    "import pandas as pd\n",
    "import torch\n",
    "from torch.utils.data import Dataset, DataLoader\n",
    "\n",
    "df = pd.read_csv('cleaned_data/combined.csv')\n",
    "\n",
    "df = df.drop(['Player', 'Team', 'PPG'], axis=1)\n",
    "\n",
    "# convert position = 'rb' to 0, position = 'wr' to 1\n",
    "df['position'] = df['position'].map({'rb': 0, 'wr': 1})\n",
    "\n",
    "# convert position into dtype float64\n",
    "df['position'] = df['position'].astype('int64')\n",
    "\n",
    "df.dtypes\n",
    "\n",
    "data_tensor = torch.tensor(df.values)\n",
    "\n",
    "data_tensor.shape"
   ]
  }
 ],
 "metadata": {
  "kernelspec": {
   "display_name": "Python 3",
   "language": "python",
   "name": "python3"
  },
  "language_info": {
   "codemirror_mode": {
    "name": "ipython",
    "version": 3
   },
   "file_extension": ".py",
   "mimetype": "text/x-python",
   "name": "python",
   "nbconvert_exporter": "python",
   "pygments_lexer": "ipython3",
   "version": "3.9.12"
  }
 },
 "nbformat": 4,
 "nbformat_minor": 2
}
