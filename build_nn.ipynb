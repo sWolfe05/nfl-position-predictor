{
 "cells": [
  {
   "cell_type": "markdown",
   "metadata": {},
   "source": [
    "# Load/Pre-process Cleaned Dataset\n",
    "\n",
    "Now that we have our cleaned dataset, we can load that and start building the model using PyTorch. Here we get rid of some unnecessary fields and then we also need to map the positions into integer numbers so that the neural network can deal with just the numbers.\n",
    "\n",
    "Reasoning on discarding unnecessary fields:\n",
    "* 'PPG' (Fantasy points per game) is derived from other fields and can be discarded.\n",
    "\n",
    "* The Player's Name and Team will be kept for display, but when training the model we will discard this because we don't want the model trying to guess based on the name of the player. There are repeat names in this dataset. For example, this dataset will include RB Derek Henry in all 4 of his years. We don't want the model picking up on names like this and trying to use that to guess the players position."
   ]
  },
  {
   "cell_type": "code",
   "execution_count": 2,
   "metadata": {},
   "outputs": [
    {
     "data": {
      "text/plain": [
       "torch.Size([1016, 14])"
      ]
     },
     "execution_count": 2,
     "metadata": {},
     "output_type": "execute_result"
    }
   ],
   "source": [
    "import pandas as pd\n",
    "import torch\n",
    "from torch.utils.data import Dataset, DataLoader\n",
    "\n",
    "df = pd.read_csv('cleaned_data/combined.csv')\n",
    "\n",
    "df = df.drop(['Player', 'Team', 'PPG'], axis=1)\n",
    "\n",
    "# convert position = 'rb' to 0, position = 'wr' to 1\n",
    "df['position'] = df['position'].map({'rb': 0, 'wr': 1})\n",
    "\n",
    "# convert position into dtype float64\n",
    "df['position'] = df['position'].astype('int64')\n",
    "\n",
    "df.dtypes\n",
    "\n",
    "data_tensor = torch.tensor(df.values)\n",
    "\n",
    "data_tensor.shape"
   ]
  },
  {
   "cell_type": "markdown",
   "metadata": {},
   "source": [
    "# Build the model class"
   ]
  },
  {
   "cell_type": "code",
   "execution_count": 3,
   "metadata": {},
   "outputs": [],
   "source": [
    "import torch.nn as nn\n",
    "import torch.nn.functional as F # allows data to move us forward in our function\n",
    "\n",
    "# Create a Class that inherits nn.Module\n",
    "class Model(nn.Module):\n",
    "  # Input layer (13 features of the player) --> \n",
    "  # hidden layer1 with n neurons --> \n",
    "  # H2 (n) --> \n",
    "  # output layer (1 of 2 types of flower)\n",
    "  def __init__(self, in_features=13, h1=16, h2=16, out_features=2):\n",
    "    super().__init__() # instantiates the nn.Module\n",
    "    self.fc1 = nn.Linear(in_features, h1)\n",
    "    self.fc2 = nn.Linear(h1, h2)\n",
    "    self.out = nn.Linear(h2, out_features)\n",
    "  \n",
    "  def forward(self, x):\n",
    "    x = F.relu(self.fc1(x)) # rectified linear unit is going to make the output zero if it's <=, otherwise take the output\n",
    "    x = F.relu(self.fc2(x))\n",
    "    x = self.out(x)\n",
    "    return x\n",
    "\n",
    "\n",
    "# Pick a manual seed for randomization\n",
    "torch.manual_seed(5)\n",
    "\n",
    "# create an instance of the model\n",
    "model = Model()"
   ]
  }
 ],
 "metadata": {
  "kernelspec": {
   "display_name": "Python 3",
   "language": "python",
   "name": "python3"
  },
  "language_info": {
   "codemirror_mode": {
    "name": "ipython",
    "version": 3
   },
   "file_extension": ".py",
   "mimetype": "text/x-python",
   "name": "python",
   "nbconvert_exporter": "python",
   "pygments_lexer": "ipython3",
   "version": "3.9.12"
  }
 },
 "nbformat": 4,
 "nbformat_minor": 2
}
